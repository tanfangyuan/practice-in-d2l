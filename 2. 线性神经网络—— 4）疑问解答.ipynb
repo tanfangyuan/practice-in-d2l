{
 "cells": [
  {
   "cell_type": "markdown",
   "id": "f1885429",
   "metadata": {},
   "source": [
    "### QA"
   ]
  },
  {
   "cell_type": "markdown",
   "id": "312d33e8",
   "metadata": {},
   "source": [
    "1. 为什么使用平方损失 而不是绝对差值呢？"
   ]
  },
  {
   "cell_type": "markdown",
   "id": "88c1eeb7",
   "metadata": {},
   "source": [
    "2. 损失为什么要求平均？"
   ]
  },
  {
   "cell_type": "markdown",
   "id": "651c57fd",
   "metadata": {},
   "source": [
    "3. 线性回归损失函数 是不是通常都是mse?（平方损失）"
   ]
  },
  {
   "cell_type": "markdown",
   "id": "43851a0b",
   "metadata": {},
   "source": [
    "4. 不管是gd(梯度下降)还是sgd(随机梯度下降)怎么找到合适的学习率？"
   ]
  },
  {
   "cell_type": "markdown",
   "id": "c1a93cb9",
   "metadata": {},
   "source": [
    "5. batchsize是否会最终影响模型结果？"
   ]
  },
  {
   "cell_type": "markdown",
   "id": "0f203dd9",
   "metadata": {},
   "source": [
    "6. 过拟合和欠拟合情况下，学习率和批次该如何进行调整？"
   ]
  },
  {
   "cell_type": "markdown",
   "id": "e646edb5",
   "metadata": {},
   "source": [
    "7. 为什么机器学习优化算法都采取梯度下降（一阶导算法），而不是采用牛顿法（二阶导算法），收敛速度更快？"
   ]
  },
  {
   "cell_type": "markdown",
   "id": "7f4d683b",
   "metadata": {},
   "source": [
    "8. detach()的作用是什么？"
   ]
  },
  {
   "cell_type": "markdown",
   "id": "c98c879c",
   "metadata": {},
   "source": [
    "9. 这样的data-iter写法，每次都把所有输入load进去，如果数据多的话 最后内存会爆掉吧？实际工业中有什么好的办法吗？"
   ]
  },
  {
   "cell_type": "markdown",
   "id": "f7c9bff9",
   "metadata": {},
   "source": [
    "10. 如果样本大小不是批量的整数倍，那需要随机剔除多余的样本吗？"
   ]
  },
  {
   "cell_type": "markdown",
   "id": "5a8cf548",
   "metadata": {},
   "source": [
    "11. 优化算法里 /batch_size, 但是最后一个batch里的样本个数没有这么多呀？"
   ]
  },
  {
   "cell_type": "markdown",
   "id": "51f57f82",
   "metadata": {},
   "source": [
    "12. 学习率不做衰减吗？有什么好的学习率衰减方法？"
   ]
  },
  {
   "cell_type": "markdown",
   "id": "8f89a806",
   "metadata": {},
   "source": [
    "13. 有没有进行收敛的判断方法？直接认为设置epoch的大小吗？"
   ]
  }
 ],
 "metadata": {
  "kernelspec": {
   "display_name": "Python 3 (ipykernel)",
   "language": "python",
   "name": "python3"
  },
  "language_info": {
   "codemirror_mode": {
    "name": "ipython",
    "version": 3
   },
   "file_extension": ".py",
   "mimetype": "text/x-python",
   "name": "python",
   "nbconvert_exporter": "python",
   "pygments_lexer": "ipython3",
   "version": "3.8.13"
  }
 },
 "nbformat": 4,
 "nbformat_minor": 5
}
