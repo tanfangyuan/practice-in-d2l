{
 "cells": [
  {
   "cell_type": "markdown",
   "id": "140ce565",
   "metadata": {},
   "source": [
    "### 疑问"
   ]
  },
  {
   "cell_type": "markdown",
   "id": "f1e369e3",
   "metadata": {},
   "source": [
    "1. 线性回归求导过程中矩阵的求导"
   ]
  },
  {
   "cell_type": "markdown",
   "id": "1446b673",
   "metadata": {},
   "source": [
    "2. 小批量随机梯度下降 是每批采样b个样本计算近似损失后，再计算一次梯度吗？"
   ]
  },
  {
   "cell_type": "markdown",
   "id": "6298539a",
   "metadata": {},
   "source": [
    "3. 关于批量太大的缺点：会浪费资源，如果样本相同则不论批量大小则一样，怎么理解？样本相同不应该在最开始的时候处理掉吗？"
   ]
  },
  {
   "cell_type": "markdown",
   "id": "ec4a8651",
   "metadata": {},
   "source": [
    "## 1. 线性回归小结"
   ]
  },
  {
   "cell_type": "markdown",
   "id": "ebec1186",
   "metadata": {},
   "source": [
    "1. 线性回归是对n维输入的加权，外加偏差；</br>\n",
    "2. 使用平方损失来衡量预测值和真实值的差异；</br>\n",
    "3. 线性回归有显示解（可以手动算出导数=0的位置）；</br>\n",
    "4. 线性回归可以看做是单层神经网络；"
   ]
  },
  {
   "cell_type": "markdown",
   "id": "f19f62b4",
   "metadata": {},
   "source": [
    "### tips"
   ]
  },
  {
   "cell_type": "markdown",
   "id": "7b6b535a",
   "metadata": {},
   "source": [
    "1. 关于显示解：<br>\n",
    "这堂课除了线性回归，其他所有的模型都没有显示解；</br>\n",
    "因为显示解比较简单，机器学习一般是解决np的问题；"
   ]
  },
  {
   "cell_type": "markdown",
   "id": "4a1f9485",
   "metadata": {},
   "source": [
    "## 2. 基础优化方法"
   ]
  },
  {
   "cell_type": "markdown",
   "id": "73bcdcfd",
   "metadata": {},
   "source": [
    "### 小结：</br>\n",
    "1. 梯度下降 通过不断沿着反梯度方向更新参数求解；</br>\n",
    "2. 小批量随机梯度下降是深度学习默认的求解算法（简单、稳定）；</br>\n",
    "3. 两个重要的超参数：批量大小、学习率；"
   ]
  },
  {
   "cell_type": "markdown",
   "id": "27947e0b",
   "metadata": {},
   "source": [
    "### 梯度下降"
   ]
  },
  {
   "cell_type": "markdown",
   "id": "676213ca",
   "metadata": {},
   "source": [
    "解释：</br>\n",
    "1. 对于无法显示求解的函数，需要使用梯度下降法来找到最优解；</br>\n",
    "2. 梯度代表一个函数在该方向上变化最大，负梯度则表示函数值降低最快；</br>\n",
    "3. 超参数(学习率) 表示沿着梯度方向改变的程度；"
   ]
  },
  {
   "cell_type": "markdown",
   "id": "7924c7a4",
   "metadata": {},
   "source": [
    "### 超惨：学习率的选择"
   ]
  },
  {
   "cell_type": "markdown",
   "id": "53c06577",
   "metadata": {},
   "source": [
    "1. 学习率不能太小</br>\n",
    "太小则步长有限 每次改变很小，计算梯度基本是机器学习中最贵的部分；</br>\n",
    "2. 学习率也不能太大</br>\n",
    "太大则会迈过了最优解部分，导致结果没有下降 反而在不断震荡；"
   ]
  },
  {
   "cell_type": "markdown",
   "id": "8b6fc988",
   "metadata": {},
   "source": [
    "### 小批量随机梯度下降"
   ]
  },
  {
   "cell_type": "markdown",
   "id": "60b2a772",
   "metadata": {},
   "source": [
    "解释：</br>\n",
    "随机采样b个样本来近似损失，其中b是批量大小"
   ]
  },
  {
   "cell_type": "markdown",
   "id": "1b5b8f23",
   "metadata": {},
   "source": [
    "### 超参：批量大小的选择"
   ]
  },
  {
   "cell_type": "markdown",
   "id": "d939ac1e",
   "metadata": {},
   "source": [
    "1. 批量不能太小</br>\n",
    "太小 则并行效果差 不能有效的利用资源；</br>\n",
    "2. 批量不能太大</br>\n",
    "太大则对内存消耗增加；浪费资源，例如如果所有的样本都是相同的；"
   ]
  }
 ],
 "metadata": {
  "kernelspec": {
   "display_name": "Python 3 (ipykernel)",
   "language": "python",
   "name": "python3"
  },
  "language_info": {
   "codemirror_mode": {
    "name": "ipython",
    "version": 3
   },
   "file_extension": ".py",
   "mimetype": "text/x-python",
   "name": "python",
   "nbconvert_exporter": "python",
   "pygments_lexer": "ipython3",
   "version": "3.8.13"
  }
 },
 "nbformat": 4,
 "nbformat_minor": 5
}
