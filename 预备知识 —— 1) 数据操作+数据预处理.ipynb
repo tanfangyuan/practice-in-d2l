{
 "cells": [
  {
   "cell_type": "markdown",
   "id": "e963e565",
   "metadata": {},
   "source": [
    "## 2.1 数据操作"
   ]
  },
  {
   "cell_type": "markdown",
   "id": "4f70490f",
   "metadata": {},
   "source": [
    "### 生成tensor"
   ]
  },
  {
   "cell_type": "code",
   "execution_count": 5,
   "id": "6304b5a4",
   "metadata": {},
   "outputs": [],
   "source": [
    "import torch"
   ]
  },
  {
   "cell_type": "code",
   "execution_count": 7,
   "id": "73a2044c",
   "metadata": {},
   "outputs": [
    {
     "data": {
      "text/plain": [
       "tensor([ 0,  1,  2,  3,  4,  5,  6,  7,  8,  9, 10, 11])"
      ]
     },
     "execution_count": 7,
     "metadata": {},
     "output_type": "execute_result"
    }
   ],
   "source": [
    "# 生成tensor：基于range\n",
    "x = torch.arange(12)\n",
    "x"
   ]
  },
  {
   "cell_type": "code",
   "execution_count": 11,
   "id": "b0c1596f",
   "metadata": {},
   "outputs": [
    {
     "data": {
      "text/plain": [
       "torch.Size([12])"
      ]
     },
     "execution_count": 11,
     "metadata": {},
     "output_type": "execute_result"
    }
   ],
   "source": [
    "# 显示tensor的shape\n",
    "x.shape"
   ]
  },
  {
   "cell_type": "code",
   "execution_count": 13,
   "id": "fbeb9101",
   "metadata": {},
   "outputs": [
    {
     "data": {
      "text/plain": [
       "12"
      ]
     },
     "execution_count": 13,
     "metadata": {},
     "output_type": "execute_result"
    }
   ],
   "source": [
    "# 显示tensor的元素个数\n",
    "x.numel()"
   ]
  },
  {
   "cell_type": "code",
   "execution_count": null,
   "id": "6673750c",
   "metadata": {},
   "outputs": [],
   "source": [
    "# reshape\n",
    "x = x.reshape(3,4)\n",
    "x"
   ]
  },
  {
   "cell_type": "code",
   "execution_count": 19,
   "id": "737a0d99",
   "metadata": {},
   "outputs": [
    {
     "data": {
      "text/plain": [
       "tensor([[[0., 0., 0., 0.],\n",
       "         [0., 0., 0., 0.],\n",
       "         [0., 0., 0., 0.]],\n",
       "\n",
       "        [[0., 0., 0., 0.],\n",
       "         [0., 0., 0., 0.],\n",
       "         [0., 0., 0., 0.]]])"
      ]
     },
     "execution_count": 19,
     "metadata": {},
     "output_type": "execute_result"
    }
   ],
   "source": [
    "# zeros\n",
    "torch.zeros((2,3,4))"
   ]
  },
  {
   "cell_type": "code",
   "execution_count": 20,
   "id": "181fac0b",
   "metadata": {},
   "outputs": [
    {
     "data": {
      "text/plain": [
       "tensor([[[1., 1., 1., 1.],\n",
       "         [1., 1., 1., 1.],\n",
       "         [1., 1., 1., 1.]],\n",
       "\n",
       "        [[1., 1., 1., 1.],\n",
       "         [1., 1., 1., 1.],\n",
       "         [1., 1., 1., 1.]]])"
      ]
     },
     "execution_count": 20,
     "metadata": {},
     "output_type": "execute_result"
    }
   ],
   "source": [
    "# ones\n",
    "torch.ones((2,3,4))"
   ]
  },
  {
   "cell_type": "code",
   "execution_count": 21,
   "id": "17be22c6",
   "metadata": {},
   "outputs": [
    {
     "data": {
      "text/plain": [
       "tensor([[2, 1, 4, 3],\n",
       "        [1, 2, 3, 4],\n",
       "        [4, 3, 2, 1]])"
      ]
     },
     "execution_count": 21,
     "metadata": {},
     "output_type": "execute_result"
    }
   ],
   "source": [
    "# 基于list生成tensor\n",
    "list = [[2,1,4,3], [1,2,3,4], [4,3,2,1]]\n",
    "torch.tensor(list)"
   ]
  },
  {
   "cell_type": "markdown",
   "id": "94feaf96",
   "metadata": {},
   "source": [
    "### 运算符"
   ]
  },
  {
   "cell_type": "code",
   "execution_count": 28,
   "id": "0a15c085",
   "metadata": {},
   "outputs": [
    {
     "name": "stdout",
     "output_type": "stream",
     "text": [
      "tensor([3., 4., 5., 6.])\n",
      "tensor([-1.,  0.,  1.,  2.])\n",
      "tensor([2., 4., 6., 8.])\n",
      "tensor([0.5000, 1.0000, 1.5000, 2.0000])\n",
      "tensor([ 1.,  4.,  9., 16.])\n"
     ]
    }
   ],
   "source": [
    "# 基本运算符\n",
    "x = torch.tensor([1.0, 2, 3, 4])\n",
    "y = torch.tensor([2,2,2,2])\n",
    "print(x+y)\n",
    "print(x-y)\n",
    "print(x*y)\n",
    "print(x/y)\n",
    "print(x**y)"
   ]
  },
  {
   "cell_type": "code",
   "execution_count": 31,
   "id": "7ad963c1",
   "metadata": {},
   "outputs": [
    {
     "name": "stdout",
     "output_type": "stream",
     "text": [
      "tensor([ 2.7183,  7.3891, 20.0855, 54.5981])\n"
     ]
    }
   ],
   "source": [
    "# e^x\n",
    "x = torch.tensor([1,2,3,4])\n",
    "x = torch.exp(x)\n",
    "print(x)"
   ]
  },
  {
   "cell_type": "code",
   "execution_count": 33,
   "id": "9f60f4ab",
   "metadata": {},
   "outputs": [
    {
     "name": "stdout",
     "output_type": "stream",
     "text": [
      "tensor([[ 0.,  1.,  2.,  3.],\n",
      "        [ 4.,  5.,  6.,  7.],\n",
      "        [ 8.,  9., 10., 11.],\n",
      "        [ 2.,  1.,  4.,  3.],\n",
      "        [ 1.,  2.,  3.,  4.],\n",
      "        [ 4.,  3.,  2.,  1.]])\n",
      "tensor([[ 0.,  1.,  2.,  3.,  2.,  1.,  4.,  3.],\n",
      "        [ 4.,  5.,  6.,  7.,  1.,  2.,  3.,  4.],\n",
      "        [ 8.,  9., 10., 11.,  4.,  3.,  2.,  1.]])\n"
     ]
    }
   ],
   "source": [
    "# cat:连接两个tensor\n",
    "X = torch.arange(12, dtype=torch.float32).reshape(3,4)\n",
    "list = [[2.0, 1, 4, 3], [1, 2, 3, 4], [4, 3, 2, 1]]\n",
    "Y = torch.tensor(list)\n",
    "print(torch.cat((X,Y), dim=0))\n",
    "print(torch.cat((X,Y), dim=1))"
   ]
  },
  {
   "cell_type": "code",
   "execution_count": 34,
   "id": "62ebba8c",
   "metadata": {},
   "outputs": [
    {
     "data": {
      "text/plain": [
       "tensor([[False,  True, False,  True],\n",
       "        [False, False, False, False],\n",
       "        [False, False, False, False]])"
      ]
     },
     "execution_count": 34,
     "metadata": {},
     "output_type": "execute_result"
    }
   ],
   "source": [
    "# 判断是否相等 \n",
    "X == Y"
   ]
  },
  {
   "cell_type": "code",
   "execution_count": 35,
   "id": "4550909d",
   "metadata": {},
   "outputs": [
    {
     "data": {
      "text/plain": [
       "tensor(66.)"
      ]
     },
     "execution_count": 35,
     "metadata": {},
     "output_type": "execute_result"
    }
   ],
   "source": [
    "# 求和\n",
    "X.sum()"
   ]
  },
  {
   "cell_type": "code",
   "execution_count": 38,
   "id": "ed2cfdaa",
   "metadata": {},
   "outputs": [
    {
     "name": "stdout",
     "output_type": "stream",
     "text": [
      "tensor([[0],\n",
      "        [1],\n",
      "        [2]]) tensor([[0, 1]])\n"
     ]
    },
    {
     "data": {
      "text/plain": [
       "tensor([[0, 1],\n",
       "        [1, 2],\n",
       "        [2, 3]])"
      ]
     },
     "execution_count": 38,
     "metadata": {},
     "output_type": "execute_result"
    }
   ],
   "source": [
    "# 广播机制\n",
    "x = torch.arange(3).reshape((3,1))\n",
    "y = torch.arange(2).reshape((1,2))\n",
    "print(x, y)\n",
    "\n",
    "x+y"
   ]
  },
  {
   "cell_type": "markdown",
   "id": "f92a7da7",
   "metadata": {},
   "source": [
    "### 索引和切片"
   ]
  },
  {
   "cell_type": "code",
   "execution_count": 40,
   "id": "2b577bd4",
   "metadata": {},
   "outputs": [
    {
     "name": "stdout",
     "output_type": "stream",
     "text": [
      "tensor([[ 0.,  1.,  2.,  3.],\n",
      "        [ 4.,  5.,  6.,  7.],\n",
      "        [ 8.,  9., 10., 11.]])\n",
      "tensor([ 8.,  9., 10., 11.])\n",
      "tensor([[ 4.,  5.,  6.,  7.],\n",
      "        [ 8.,  9., 10., 11.]])\n"
     ]
    }
   ],
   "source": [
    "# 读取\n",
    "print(X)\n",
    "print(X[-1])\n",
    "print(X[1:3])"
   ]
  },
  {
   "cell_type": "code",
   "execution_count": 42,
   "id": "73e36e96",
   "metadata": {},
   "outputs": [
    {
     "name": "stdout",
     "output_type": "stream",
     "text": [
      "tensor([[ 0.,  1.,  2.,  9.],\n",
      "        [ 4.,  5.,  6.,  7.],\n",
      "        [ 8.,  9., 10., 11.]])\n",
      "tensor([[ 0.,  1.,  2.,  9.],\n",
      "        [12., 12., 12., 12.],\n",
      "        [12., 12., 12., 12.]])\n"
     ]
    }
   ],
   "source": [
    "# 写入\n",
    "X[0, 3] = 9\n",
    "print(X)\n",
    "X[1:3, :] = 12\n",
    "print(X)"
   ]
  },
  {
   "cell_type": "code",
   "execution_count": 50,
   "id": "cc1e49df",
   "metadata": {},
   "outputs": [
    {
     "name": "stdout",
     "output_type": "stream",
     "text": [
      "id(z): 4633246592\n",
      "id(z): 4633246592\n",
      "4633090704\n",
      "4633090704\n",
      "4633090704\n"
     ]
    }
   ],
   "source": [
    "# 节省内存\n",
    "\n",
    "# 以下将为新结果分配内存（如果旧内存没有被其他地方使用，python会自动释放）\n",
    "before = id(Y) # Y的内存地址，类似于c++中的指针\n",
    "Y = Y + X\n",
    "id(Y) == before\n",
    "\n",
    "# 以下将执行原地操作：可防止后续使用原来Y的地址，但Y的地址已换\n",
    "z = torch.zeros_like(Y)\n",
    "print('id(z):', id(z))\n",
    "z[:] = X+Y\n",
    "print('id(z):', id(z))\n",
    "\n",
    "# 若后续计算没有重复使用X，可通过如下操作减少内存开销（此处前后内存地址相同）\n",
    "print(id(X))\n",
    "X[:] = X+Y\n",
    "print(id(X))\n",
    "X += Y\n",
    "print(id(X))"
   ]
  },
  {
   "cell_type": "code",
   "execution_count": 56,
   "id": "1483514f",
   "metadata": {},
   "outputs": [
    {
     "name": "stdout",
     "output_type": "stream",
     "text": [
      "tensor([[  366.,  1027.,  2420.,  8145.],\n",
      "        [10311., 10494., 10677., 10860.],\n",
      "        [10860., 10677., 10494., 10311.]])\n",
      "[[  366.  1027.  2420.  8145.]\n",
      " [10311. 10494. 10677. 10860.]\n",
      " [10860. 10677. 10494. 10311.]]\n",
      "tensor([[  366.,  1027.,  2420.,  8145.],\n",
      "        [10311., 10494., 10677., 10860.],\n",
      "        [10860., 10677., 10494., 10311.]])\n"
     ]
    },
    {
     "data": {
      "text/plain": [
       "(tensor([3.3330]), 3.3329999446868896, 3.3329999446868896, 3)"
      ]
     },
     "execution_count": 56,
     "metadata": {},
     "output_type": "execute_result"
    }
   ],
   "source": [
    "# 转换为其他python对象（Numpy张量 & python标量）\n",
    "\n",
    "# Numpy张量\n",
    "print(X)\n",
    "A = X.numpy()\n",
    "print(A)\n",
    "B = torch.tensor(A)\n",
    "print(B)\n",
    "type(A), type(B)\n",
    "\n",
    "# 大小为1的张量转换为python标量\n",
    "a = torch.tensor([3.333])\n",
    "a, a.item(), float(a), int(a)"
   ]
  },
  {
   "cell_type": "markdown",
   "id": "852956bd",
   "metadata": {},
   "source": [
    "## 2.2 数据预处理"
   ]
  },
  {
   "cell_type": "code",
   "execution_count": 61,
   "id": "ae08e9c5",
   "metadata": {},
   "outputs": [
    {
     "name": "stdout",
     "output_type": "stream",
     "text": [
      "/Users/tanfangyuan/study/hands-on-learning-DL/practice-in-d2l\n",
      "success!\n"
     ]
    }
   ],
   "source": [
    "# 创建一个人工数据集，并存入csv文件\n",
    "\n",
    "import os\n",
    "print(os.path.abspath('.'))\n",
    "os.makedirs(os.path.join('..', 'data'), exist_ok=True)\n",
    "data_file = os.path.join('..', 'data', 'house_tiny.csv')\n",
    "with open(data_file, 'w') as fw:\n",
    "    fw.write('NumRoom,Alley,Prices\\n')\n",
    "    fw.write('NA,Pave,12500\\n')\n",
    "    fw.write('2,NA,10060\\n')\n",
    "    fw.write('4,NA,11000\\n')\n",
    "    fw.write('NA,NA,10000\\n')\n",
    "print('success!')"
   ]
  },
  {
   "cell_type": "code",
   "execution_count": 67,
   "id": "26aff5bd",
   "metadata": {},
   "outputs": [
    {
     "data": {
      "text/html": [
       "<div>\n",
       "<style scoped>\n",
       "    .dataframe tbody tr th:only-of-type {\n",
       "        vertical-align: middle;\n",
       "    }\n",
       "\n",
       "    .dataframe tbody tr th {\n",
       "        vertical-align: top;\n",
       "    }\n",
       "\n",
       "    .dataframe thead th {\n",
       "        text-align: right;\n",
       "    }\n",
       "</style>\n",
       "<table border=\"1\" class=\"dataframe\">\n",
       "  <thead>\n",
       "    <tr style=\"text-align: right;\">\n",
       "      <th></th>\n",
       "      <th>NumRoom</th>\n",
       "      <th>Alley</th>\n",
       "      <th>Prices</th>\n",
       "    </tr>\n",
       "  </thead>\n",
       "  <tbody>\n",
       "    <tr>\n",
       "      <th>0</th>\n",
       "      <td>NaN</td>\n",
       "      <td>Pave</td>\n",
       "      <td>12500</td>\n",
       "    </tr>\n",
       "    <tr>\n",
       "      <th>1</th>\n",
       "      <td>2.0</td>\n",
       "      <td>NaN</td>\n",
       "      <td>10060</td>\n",
       "    </tr>\n",
       "    <tr>\n",
       "      <th>2</th>\n",
       "      <td>4.0</td>\n",
       "      <td>NaN</td>\n",
       "      <td>11000</td>\n",
       "    </tr>\n",
       "    <tr>\n",
       "      <th>3</th>\n",
       "      <td>NaN</td>\n",
       "      <td>NaN</td>\n",
       "      <td>10000</td>\n",
       "    </tr>\n",
       "  </tbody>\n",
       "</table>\n",
       "</div>"
      ],
      "text/plain": [
       "   NumRoom Alley  Prices\n",
       "0      NaN  Pave   12500\n",
       "1      2.0   NaN   10060\n",
       "2      4.0   NaN   11000\n",
       "3      NaN   NaN   10000"
      ]
     },
     "execution_count": 67,
     "metadata": {},
     "output_type": "execute_result"
    }
   ],
   "source": [
    "# 读取csv文件\n",
    "import pandas as pd\n",
    "\n",
    "data = pd.read_csv('../data/house_tiny.csv')\n",
    "data"
   ]
  },
  {
   "cell_type": "code",
   "execution_count": 70,
   "id": "23bc8f35",
   "metadata": {},
   "outputs": [
    {
     "name": "stdout",
     "output_type": "stream",
     "text": [
      "   NumRoom Alley\n",
      "0      NaN  Pave\n",
      "1      2.0   NaN\n",
      "2      4.0   NaN\n",
      "3      NaN   NaN\n",
      "   NumRoom Alley\n",
      "0      3.0  Pave\n",
      "1      2.0   NaN\n",
      "2      4.0   NaN\n",
      "3      3.0   NaN\n",
      "   NumRoom  Alley_Pave  Alley_nan\n",
      "0      3.0           1          0\n",
      "1      2.0           0          1\n",
      "2      4.0           0          1\n",
      "3      3.0           0          1\n"
     ]
    },
    {
     "name": "stderr",
     "output_type": "stream",
     "text": [
      "/var/folders/x3/8507zt650vb84jm02_dhhn7c0000gn/T/ipykernel_7447/1132521209.py:6: FutureWarning: The default value of numeric_only in DataFrame.mean is deprecated. In a future version, it will default to False. In addition, specifying 'numeric_only=None' is deprecated. Select only valid columns or specify the value of numeric_only to silence this warning.\n",
      "  inputs = inputs.fillna(inputs.mean())\n"
     ]
    }
   ],
   "source": [
    "# 处理缺失值\n",
    "\n",
    "inputs, outputs = data.iloc[:, 0:2], data.iloc[:,2]\n",
    "# 对于数值类型的缺失值，可使用插值 或者 删除的方法（此处将其插值为mean）\n",
    "print(inputs)\n",
    "inputs = inputs.fillna(inputs.mean())\n",
    "print(inputs)\n",
    "\n",
    "# 对于字符串类型的缺失值，可以使用独热编码将NA也理解为一种类型进行转换\n",
    "inputs = pd.get_dummies(inputs, dummy_na=True)\n",
    "print(inputs)b"
   ]
  },
  {
   "cell_type": "code",
   "execution_count": 75,
   "id": "f300b338",
   "metadata": {},
   "outputs": [
    {
     "name": "stdout",
     "output_type": "stream",
     "text": [
      "<class 'pandas.core.frame.DataFrame'> <class 'numpy.ndarray'>\n"
     ]
    },
    {
     "data": {
      "text/plain": [
       "(tensor([[3., 1., 0.],\n",
       "         [2., 0., 1.],\n",
       "         [4., 0., 1.],\n",
       "         [3., 0., 1.]], dtype=torch.float64),\n",
       " tensor([12500, 10060, 11000, 10000]))"
      ]
     },
     "execution_count": 75,
     "metadata": {},
     "output_type": "execute_result"
    }
   ],
   "source": [
    "# 转换为张量格式\n",
    "# tips: 传统的python tensor中会使用64位浮点数，但64位在深度学习中速度较慢 在实践中一般使用32位浮点数\n",
    "print(type(inputs), type(inputs.values))\n",
    "x,y = torch.tensor(inputs.values), torch.tensor(outputs.values)\n",
    "x,y"
   ]
  },
  {
   "cell_type": "markdown",
   "id": "b8abf7c9",
   "metadata": {},
   "source": [
    "### QA"
   ]
  },
  {
   "cell_type": "code",
   "execution_count": 76,
   "id": "ed21e7f6",
   "metadata": {},
   "outputs": [
    {
     "name": "stdout",
     "output_type": "stream",
     "text": [
      "tensor([ 0,  1,  2,  3,  4,  5,  6,  7,  8,  9, 10, 11])\n",
      "tensor([2, 2, 2, 2, 2, 2, 2, 2, 2, 2, 2, 2])\n"
     ]
    }
   ],
   "source": [
    "# reshape和view的区别（两者没有本质区别）\n",
    "a = torch.arange(12)\n",
    "print(a)\n",
    "b = a.reshape((3,4)) # 此处b通过reshape操作 创建了a的view：b的更改会影响到a\n",
    "b[:] = 2\n",
    "print(a)"
   ]
  },
  {
   "cell_type": "markdown",
   "id": "441a72dd",
   "metadata": {},
   "source": [
    "【tensor和array的区别】\n",
    "tensor是数学上的概念：张量\n",
    "array是计算机上的概念：数组\n",
    "=》tensor和array没有本质区别"
   ]
  },
  {
   "cell_type": "code",
   "execution_count": null,
   "id": "b06a80ab",
   "metadata": {},
   "outputs": [],
   "source": []
  }
 ],
 "metadata": {
  "kernelspec": {
   "display_name": "Python 3 (ipykernel)",
   "language": "python",
   "name": "python3"
  },
  "language_info": {
   "codemirror_mode": {
    "name": "ipython",
    "version": 3
   },
   "file_extension": ".py",
   "mimetype": "text/x-python",
   "name": "python",
   "nbconvert_exporter": "python",
   "pygments_lexer": "ipython3",
   "version": "3.8.13"
  }
 },
 "nbformat": 4,
 "nbformat_minor": 5
}
