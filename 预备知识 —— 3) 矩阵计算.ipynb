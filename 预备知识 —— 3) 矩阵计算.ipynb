{
 "cells": [
  {
   "cell_type": "markdown",
   "id": "39535466",
   "metadata": {},
   "source": [
    "### 梯度：将标量的导数 拓展到 向量"
   ]
  },
  {
   "cell_type": "code",
   "execution_count": null,
   "id": "20f3ced8",
   "metadata": {},
   "outputs": [],
   "source": [
    "# 梯度指向的是函数变化最大的方向，与等高线正交"
   ]
  },
  {
   "cell_type": "code",
   "execution_count": null,
   "id": "15e3780d",
   "metadata": {},
   "outputs": [],
   "source": [
    "# pytorch采用的是自动求导和计算图，所以不需要进行手动求导\n",
    "# 但 导数是基础，需要理解导数的形状和input的形状是什么样的关系"
   ]
  },
  {
   "cell_type": "markdown",
   "id": "992b1fd7",
   "metadata": {},
   "source": [
    "### 自动求导：计算一个函数在指定值上的导数"
   ]
  },
  {
   "cell_type": "markdown",
   "id": "ec191398",
   "metadata": {},
   "source": [
    "概念：计算图</br>\n",
    "类似于链式求导法则，计算机将函数一步一步分解生成有向图，然后根据图进行计算；</br>\n",
    "显式构造：tensorflow（基于数学公式 构造计算图）</br>\n",
    "隐式构造：pytorch（程序帮忙记录下来整个数学计算过程）</br>"
   ]
  },
  {
   "cell_type": "markdown",
   "id": "5516df10",
   "metadata": {},
   "source": [
    "方式：基于链式法则 进行 正向累积 或者 反向累积（又称为反向传递）"
   ]
  },
  {
   "cell_type": "code",
   "execution_count": 1,
   "id": "a584116d",
   "metadata": {},
   "outputs": [
    {
     "data": {
      "text/plain": [
       "tensor([0., 1., 2., 3.])"
      ]
     },
     "execution_count": 1,
     "metadata": {},
     "output_type": "execute_result"
    }
   ],
   "source": [
    "import torch\n",
    "\n",
    "x = torch.arange(4.0)\n",
    "x"
   ]
  },
  {
   "cell_type": "code",
   "execution_count": 3,
   "id": "3cdbc088",
   "metadata": {},
   "outputs": [],
   "source": [
    "x.requires_grad_(True) # 告诉pytorch需要存储梯度，存储于x.grad\n",
    "x.grad"
   ]
  },
  {
   "cell_type": "code",
   "execution_count": 4,
   "id": "f77620bb",
   "metadata": {},
   "outputs": [
    {
     "data": {
      "text/plain": [
       "tensor(28., grad_fn=<MulBackward0>)"
      ]
     },
     "execution_count": 4,
     "metadata": {},
     "output_type": "execute_result"
    }
   ],
   "source": [
    "y = 2 * torch.dot(x, x)\n",
    "y # 返回的结果中有grad_fn"
   ]
  },
  {
   "cell_type": "code",
   "execution_count": 5,
   "id": "5b9836e1",
   "metadata": {},
   "outputs": [
    {
     "data": {
      "text/plain": [
       "tensor([ 0.,  4.,  8., 12.])"
      ]
     },
     "execution_count": 5,
     "metadata": {},
     "output_type": "execute_result"
    }
   ],
   "source": [
    "y.backward()\n",
    "x.grad"
   ]
  },
  {
   "cell_type": "code",
   "execution_count": 6,
   "id": "634489ab",
   "metadata": {},
   "outputs": [
    {
     "data": {
      "text/plain": [
       "tensor([True, True, True, True])"
      ]
     },
     "execution_count": 6,
     "metadata": {},
     "output_type": "execute_result"
    }
   ],
   "source": [
    "x.grad == 4*x"
   ]
  },
  {
   "cell_type": "code",
   "execution_count": 9,
   "id": "561c39d2",
   "metadata": {},
   "outputs": [
    {
     "data": {
      "text/plain": [
       "tensor([1., 1., 1., 1.])"
      ]
     },
     "execution_count": 9,
     "metadata": {},
     "output_type": "execute_result"
    }
   ],
   "source": [
    "# 默认情况下，pytorch会累积梯度，我们需要清除之前的值\n",
    "x.grad.zero_()\n",
    "y = x.sum()\n",
    "y.backward() \n",
    "x.grad"
   ]
  },
  {
   "cell_type": "code",
   "execution_count": 10,
   "id": "14d04d15",
   "metadata": {},
   "outputs": [
    {
     "data": {
      "text/plain": [
       "tensor([0., 2., 4., 6.])"
      ]
     },
     "execution_count": 10,
     "metadata": {},
     "output_type": "execute_result"
    }
   ],
   "source": [
    "x.grad.zero_()\n",
    "y = x*x\n",
    "y.sum().backward()\n",
    "x.grad"
   ]
  },
  {
   "cell_type": "markdown",
   "id": "e8f87377",
   "metadata": {},
   "source": [
    "### 将某些计算移动到记录的计算图之外"
   ]
  },
  {
   "cell_type": "code",
   "execution_count": 11,
   "id": "703bfb63",
   "metadata": {},
   "outputs": [
    {
     "data": {
      "text/plain": [
       "tensor([True, True, True, True])"
      ]
     },
     "execution_count": 11,
     "metadata": {},
     "output_type": "execute_result"
    }
   ],
   "source": [
    "x.grad.zero_()\n",
    "y = x*x\n",
    "u = y.detach()\n",
    "z = u*x\n",
    "\n",
    "z.sum().backward()\n",
    "x.grad == u"
   ]
  },
  {
   "cell_type": "code",
   "execution_count": 12,
   "id": "e0754cc9",
   "metadata": {},
   "outputs": [
    {
     "data": {
      "text/plain": [
       "tensor([True, True, True, True])"
      ]
     },
     "execution_count": 12,
     "metadata": {},
     "output_type": "execute_result"
    }
   ],
   "source": [
    "x.grad.zero_()\n",
    "y.sum().backward()\n",
    "x.grad == 2*x"
   ]
  },
  {
   "cell_type": "markdown",
   "id": "f2efcd87",
   "metadata": {},
   "source": [
    "### 即使构造函数的计算图需要通过python控制流（如 条件、循环），我们仍然可以计算得到变量的梯度"
   ]
  },
  {
   "cell_type": "markdown",
   "id": "87ec66b5",
   "metadata": {},
   "source": [
    "此处表明 pytorch中隐式求导比显式求导 在控制流上做的好一点；\n",
    "但反过来说，pytorch此处也会慢一点；"
   ]
  },
  {
   "cell_type": "markdown",
   "id": "2e2dd4b6",
   "metadata": {},
   "source": [
    "## QA"
   ]
  },
  {
   "cell_type": "markdown",
   "id": "81fc1111",
   "metadata": {},
   "source": [
    "1. Q:为什么获取grad前需要backward?</br>\n",
    "A: 因为计算梯度是很耗内存和时间的一件事，除非显式指定，否则不会自动计算梯度；"
   ]
  }
 ],
 "metadata": {
  "kernelspec": {
   "display_name": "Python 3 (ipykernel)",
   "language": "python",
   "name": "python3"
  },
  "language_info": {
   "codemirror_mode": {
    "name": "ipython",
    "version": 3
   },
   "file_extension": ".py",
   "mimetype": "text/x-python",
   "name": "python",
   "nbconvert_exporter": "python",
   "pygments_lexer": "ipython3",
   "version": "3.8.13"
  }
 },
 "nbformat": 4,
 "nbformat_minor": 5
}
